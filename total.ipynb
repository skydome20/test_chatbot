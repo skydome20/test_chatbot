{
 "cells": [
  {
   "cell_type": "code",
   "execution_count": 1,
   "metadata": {
    "collapsed": false
   },
   "outputs": [
    {
     "name": "stderr",
     "output_type": "stream",
     "text": [
      "Building prefix dict from /home/skydome20/Desktop/dbot/dbot.py3/jieba_dict/dict.txt.big ...\n",
      "Loading model from cache /tmp/jieba.u300776cf1c5f564361e07846b411a882.cache\n",
      "Loading model cost 2.313 seconds.\n",
      "Prefix dict has been built succesfully.\n",
      "Building prefix dict from /home/skydome20/Desktop/dbot/dbot.py3/jieba_dict/dict.txt.big ...\n",
      "2017-03-22 17:08:34,911 : DEBUG : Building prefix dict from /home/skydome20/Desktop/dbot/dbot.py3/jieba_dict/dict.txt.big ...\n",
      "Loading model from cache /tmp/jieba.u300776cf1c5f564361e07846b411a882.cache\n",
      "2017-03-22 17:08:34,920 : DEBUG : Loading model from cache /tmp/jieba.u300776cf1c5f564361e07846b411a882.cache\n",
      "Loading model cost 4.195 seconds.\n",
      "2017-03-22 17:08:39,115 : DEBUG : Loading model cost 4.195 seconds.\n",
      "Prefix dict has been built succesfully.\n",
      "2017-03-22 17:08:39,122 : DEBUG : Prefix dict has been built succesfully.\n"
     ]
    }
   ],
   "source": [
    "import question_module\n",
    "import news_module\n",
    "import time\n",
    "question = \"台大論文造假\"\n",
    "cut_qwords = question_module.handler(question)\n",
    "title_path = \"/home/skydome20/Desktop/news_folder/title/台大_論文造假_title.txt\"\n",
    "news_path = \"/home/skydome20/Desktop/news_folder/all/台大_論文造假.txt\"\n",
    "href_path = \"/home/skydome20/Desktop/news_folder/href/台大_論文造假_href.txt\""
   ]
  },
  {
   "cell_type": "code",
   "execution_count": 7,
   "metadata": {
    "collapsed": true
   },
   "outputs": [],
   "source": [
    "from gensim.models import word2vec\n",
    "from gensim import models\n",
    "import warnings\n",
    "from sklearn.metrics.pairwise import cosine_similarity"
   ]
  },
  {
   "cell_type": "code",
   "execution_count": 9,
   "metadata": {
    "collapsed": false
   },
   "outputs": [
    {
     "name": "stderr",
     "output_type": "stream",
     "text": [
      "2017-03-22 21:36:24,610 : INFO : loading projection weights from /home/skydome20/Desktop/dbot/dbot.py3/wiki_word2vec_set/wiki_article_word2vector_200_skipgram5_model.bin\n",
      "2017-03-22 21:36:40,618 : INFO : loaded (879989, 200) matrix from /home/skydome20/Desktop/dbot/dbot.py3/wiki_word2vec_set/wiki_article_word2vector_200_skipgram5_model.bin\n"
     ]
    }
   ],
   "source": [
    "path = \"/home/skydome20/Desktop/dbot/dbot.py3/wiki_word2vec_set/wiki_article_word2vector_200_skipgram5_model.bin\"\n",
    "model = models.Word2Vec.load_word2vec_format(path, binary=True)\n"
   ]
  },
  {
   "cell_type": "code",
   "execution_count": 2,
   "metadata": {
    "collapsed": true
   },
   "outputs": [],
   "source": [
    "cut_news_path = news_module.news_cut(news_path)"
   ]
  },
  {
   "cell_type": "code",
   "execution_count": 5,
   "metadata": {
    "collapsed": false
   },
   "outputs": [
    {
     "name": "stdout",
     "output_type": "stream",
     "text": [
      "The number of news is :178\n",
      "[('學術', 67), ('倫理', 46), ('調查', 39), ('研究', 38), ('造假', 29), ('台灣', 26), ('校長', 24), ('科技部', 22), ('教授', 22), ('楊泮池', 22), ('教育部', 19), ('論文', 17), ('作者', 17), ('掛名', 15)]\n"
     ]
    }
   ],
   "source": [
    "# clustering\n",
    "keywords = news_module.news_associated_keywords([\"台大\",\"論文造假\"], cut_news_path)"
   ]
  },
  {
   "cell_type": "code",
   "execution_count": 6,
   "metadata": {
    "collapsed": false
   },
   "outputs": [
    {
     "name": "stdout",
     "output_type": "stream",
     "text": [
      "['學術', '倫理', '調查', '研究', '造假']\n"
     ]
    }
   ],
   "source": [
    "print(keywords)"
   ]
  },
  {
   "cell_type": "code",
   "execution_count": 38,
   "metadata": {
    "collapsed": false
   },
   "outputs": [
    {
     "name": "stderr",
     "output_type": "stream",
     "text": [
      "2017-03-22 22:36:02,484 : WARNING : direct access to vocab will not be supported in future gensim releases, please use model.wv.vocab\n"
     ]
    }
   ],
   "source": [
    "warnings.filterwarnings(\"ignore\", category=DeprecationWarning) \n",
    "combin_vec = model[\"造假\"] + model[\"學術\"] + model[\"倫理\"]\n",
    "all_voc = model.vocab\n",
    "\n",
    "# cosine similarity\n",
    "lst = list()\n",
    "for voc in all_voc:\n",
    "    voc_vec = model[voc]\n",
    "    cos_sim = cosine_similarity(combin_vec,voc_vec)\n",
    "    lst.append( (voc,float(cos_sim)) )\n",
    "    \n",
    "result = sorted(lst, key=lambda x: x[1], reverse=True)"
   ]
  },
  {
   "cell_type": "code",
   "execution_count": 11,
   "metadata": {
    "collapsed": false
   },
   "outputs": [
    {
     "data": {
      "text/plain": [
       "[('倫理', 0.8872010111808777),\n",
       " ('學術', 0.8684836030006409),\n",
       " ('應用倫理學', 0.8087821006774902),\n",
       " ('生命倫理學', 0.7791892886161804),\n",
       " ('媒體藝術史', 0.7640957832336426),\n",
       " ('道德', 0.7587945461273193),\n",
       " ('哲學評論', 0.7569308280944824),\n",
       " ('部門法', 0.7564783692359924),\n",
       " ('道德倫理', 0.7558629512786865),\n",
       " ('哲學與文學', 0.7541555166244507)]"
      ]
     },
     "execution_count": 11,
     "metadata": {},
     "output_type": "execute_result"
    }
   ],
   "source": [
    "# \"學術\" + \"倫理\"\n",
    "result[2:10]"
   ]
  },
  {
   "cell_type": "code",
   "execution_count": 13,
   "metadata": {
    "collapsed": false
   },
   "outputs": [
    {
     "data": {
      "text/plain": [
       "[('調查', 0.8256913423538208),\n",
       " ('學術', 0.7906573414802551),\n",
       " ('研究', 0.7055495381355286),\n",
       " ('學術研究', 0.7046890258789062),\n",
       " ('商週', 0.7037676572799683),\n",
       " ('英國高等教育', 0.7025899291038513),\n",
       " ('山西疫苗', 0.697510838508606),\n",
       " ('與校', 0.6864626407623291),\n",
       " ('論文造假', 0.6864332556724548),\n",
       " ('專家庫', 0.6825308799743652)]"
      ]
     },
     "execution_count": 13,
     "metadata": {},
     "output_type": "execute_result"
    }
   ],
   "source": [
    "# \"學術\" + \"調查\"\n",
    "result[2:10]"
   ]
  },
  {
   "cell_type": "code",
   "execution_count": 15,
   "metadata": {
    "collapsed": false
   },
   "outputs": [
    {
     "data": {
      "text/plain": [
       "[('學術', 0.9038136601448059),\n",
       " ('研究', 0.9023044109344482),\n",
       " ('學術研究', 0.8432855010032654),\n",
       " ('應用倫理學', 0.7459667325019836),\n",
       " ('跨文化研究', 0.7373208999633789),\n",
       " ('科學傳播', 0.7366924285888672),\n",
       " ('史及', 0.7354079484939575),\n",
       " ('國際研究', 0.7316675782203674),\n",
       " ('普及讀物', 0.7306048274040222),\n",
       " ('媒體藝術史', 0.7303802967071533)]"
      ]
     },
     "execution_count": 15,
     "metadata": {},
     "output_type": "execute_result"
    }
   ],
   "source": [
    "# \"學術\" + \"研究\"\n",
    "result[2:10]"
   ]
  },
  {
   "cell_type": "code",
   "execution_count": 17,
   "metadata": {
    "collapsed": false
   },
   "outputs": [
    {
     "data": {
      "text/plain": [
       "[('論文造假', 0.777978241443634),\n",
       " ('黎澤潮', 0.7610243558883667),\n",
       " ('趙心樹', 0.7570462226867676),\n",
       " ('商業道德', 0.744904100894928),\n",
       " ('學術腐敗', 0.7349883317947388),\n",
       " ('丘小慶', 0.7348009943962097),\n",
       " ('商週', 0.7321262955665588),\n",
       " ('胡星斗', 0.7244113683700562)]"
      ]
     },
     "execution_count": 17,
     "metadata": {},
     "output_type": "execute_result"
    }
   ],
   "source": [
    "# \"學術\" + \"造假\"\n",
    "result[2:10]"
   ]
  },
  {
   "cell_type": "code",
   "execution_count": 23,
   "metadata": {
    "collapsed": false
   },
   "outputs": [
    {
     "data": {
      "text/plain": [
       "[('職業操守', 0.7010973691940308),\n",
       " ('山西疫苗', 0.6960468292236328),\n",
       " ('非美', 0.6936271786689758),\n",
       " ('適格', 0.6909247636795044),\n",
       " ('審裁署', 0.6848470568656921),\n",
       " ('日軍罪行', 0.6831756234169006),\n",
       " ('情報信息', 0.6800248026847839),\n",
       " ('商業倫理', 0.6787756681442261)]"
      ]
     },
     "execution_count": 23,
     "metadata": {},
     "output_type": "execute_result"
    }
   ],
   "source": [
    "# \"倫理\" + \"調查\"\n",
    "result[2:10]"
   ]
  },
  {
   "cell_type": "code",
   "execution_count": 25,
   "metadata": {
    "collapsed": false
   },
   "outputs": [
    {
     "data": {
      "text/plain": [
       "[('應用倫理學', 0.8013233542442322),\n",
       " ('生命倫理學', 0.7755028009414673),\n",
       " ('科學研究方法', 0.7748115062713623),\n",
       " ('部門法', 0.7589697241783142),\n",
       " ('媒體藝術史', 0.7584304213523865),\n",
       " ('生物倫理學', 0.7509317994117737),\n",
       " ('政治心理學', 0.7497441172599792),\n",
       " ('家譜學', 0.7485553622245789)]"
      ]
     },
     "execution_count": 25,
     "metadata": {},
     "output_type": "execute_result"
    }
   ],
   "source": [
    "# \"倫理\" + \"研究\"\n",
    "result[2:10]"
   ]
  },
  {
   "cell_type": "code",
   "execution_count": 21,
   "metadata": {
    "collapsed": false
   },
   "outputs": [
    {
     "data": {
      "text/plain": [
       "[('商業道德', 0.748672604560852),\n",
       " ('商業倫理', 0.7343590259552002),\n",
       " ('職業操守', 0.7212666869163513),\n",
       " ('保密法', 0.719658613204956),\n",
       " ('一稿多投', 0.7195820808410645),\n",
       " ('個人行爲', 0.7178133130073547),\n",
       " ('悖離', 0.7170954346656799),\n",
       " ('有悖於', 0.7163957953453064)]"
      ]
     },
     "execution_count": 21,
     "metadata": {},
     "output_type": "execute_result"
    }
   ],
   "source": [
    "# \"倫理\" + \"造假\"\n",
    "result[2:10]"
   ]
  },
  {
   "cell_type": "code",
   "execution_count": 35,
   "metadata": {
    "collapsed": false
   },
   "outputs": [
    {
     "data": {
      "text/plain": [
       "[('調查研究', 0.6954835057258606),\n",
       " ('分析', 0.6864463090896606),\n",
       " ('調查結果', 0.6825135946273804),\n",
       " ('調查報告', 0.6576125621795654),\n",
       " ('科學研究', 0.6533050537109375),\n",
       " ('測勘', 0.6530886888504028),\n",
       " ('綜合分析', 0.6473377346992493),\n",
       " ('商週', 0.6467585563659668)]"
      ]
     },
     "execution_count": 35,
     "metadata": {},
     "output_type": "execute_result"
    }
   ],
   "source": [
    "# \"調查\" + \"研究\"\n",
    "result[2:10]"
   ]
  },
  {
   "cell_type": "code",
   "execution_count": 33,
   "metadata": {
    "collapsed": false
   },
   "outputs": [
    {
     "data": {
      "text/plain": [
       "[('山西疫苗', 0.7289577722549438),\n",
       " ('深入調查', 0.7247855067253113),\n",
       " ('網貼', 0.7176415324211121),\n",
       " ('高鶯鶯', 0.7106187343597412),\n",
       " ('違法違紀', 0.7047767043113708),\n",
       " ('李國福', 0.7031227946281433),\n",
       " ('曾成傑案', 0.7009236812591553),\n",
       " ('法治週末', 0.69970703125)]"
      ]
     },
     "execution_count": 33,
     "metadata": {},
     "output_type": "execute_result"
    }
   ],
   "source": [
    "# \"調查\" + \"造假\"\n",
    "result[2:10]"
   ]
  },
  {
   "cell_type": "code",
   "execution_count": 31,
   "metadata": {
    "collapsed": false
   },
   "outputs": [
    {
     "data": {
      "text/plain": [
       "[('商週', 0.7331295013427734),\n",
       " ('論文造假', 0.7261444330215454),\n",
       " ('黎澤潮', 0.7238779067993164),\n",
       " ('美國醫學會雜誌', 0.7195792198181152),\n",
       " ('水變油', 0.7115838527679443),\n",
       " ('趙心樹', 0.710591733455658),\n",
       " ('丘小慶', 0.7091389298439026),\n",
       " ('後見之明偏誤', 0.7054480314254761)]"
      ]
     },
     "execution_count": 31,
     "metadata": {},
     "output_type": "execute_result"
    }
   ],
   "source": [
    "# \"研究\" + \"造假\"\n",
    "result[2:10]"
   ]
  },
  {
   "cell_type": "code",
   "execution_count": 37,
   "metadata": {
    "collapsed": false
   },
   "outputs": [
    {
     "data": {
      "text/plain": [
       "[('學術', 0.7967489361763),\n",
       " ('倫理', 0.7917324900627136),\n",
       " ('科學研究方法', 0.7488946318626404),\n",
       " ('應用倫理學', 0.7488104701042175),\n",
       " ('職業操守', 0.7435752153396606),\n",
       " ('部門法', 0.7430514097213745),\n",
       " ('人才學', 0.7425943613052368),\n",
       " ('商業道德', 0.7408283948898315),\n",
       " ('人權思想', 0.7401052117347717),\n",
       " ('媒體藝術史', 0.739113450050354)]"
      ]
     },
     "execution_count": 37,
     "metadata": {},
     "output_type": "execute_result"
    }
   ],
   "source": [
    "# \"學術\" + \"倫理\" + \"調查\"\n",
    "result[0:10]"
   ]
  },
  {
   "cell_type": "code",
   "execution_count": 39,
   "metadata": {
    "collapsed": false
   },
   "outputs": [
    {
     "data": {
      "text/plain": [
       "[('倫理', 0.8219747543334961),\n",
       " ('商業道德', 0.7990847826004028),\n",
       " ('學術', 0.7887171506881714),\n",
       " ('商業倫理', 0.7784749865531921),\n",
       " ('應用倫理學', 0.7742539644241333),\n",
       " ('部門法', 0.7719799280166626),\n",
       " ('論文造假', 0.7709048986434937),\n",
       " ('全球政治', 0.7633988261222839),\n",
       " ('職業操守', 0.7598010301589966),\n",
       " ('生命倫理學', 0.7591103911399841)]"
      ]
     },
     "execution_count": 39,
     "metadata": {},
     "output_type": "execute_result"
    }
   ],
   "source": [
    "# \"學術\" + \"倫理\" + \"造假\"\n",
    "result[0:10]"
   ]
  },
  {
   "cell_type": "code",
   "execution_count": 2,
   "metadata": {
    "collapsed": false
   },
   "outputs": [
    {
     "name": "stdout",
     "output_type": "stream",
     "text": [
      "Positive Articles\n",
      "\n",
      "【郭明良團隊論文造假風波擴大至少11篇論文遭檢舉】 0.981668112531753\n",
      "---台灣大學前教授郭明良遭指控發表論文造假\n",
      "---和郭明良團隊相關的論文至少有11篇遭檢舉涉及學術倫理問題\n",
      "---根據國外同儕審評論文的網站PubPeer揭露\n",
      "---由於PubPeer屬匿名發文網站\n",
      "---針對郭明良案校方已啟動調查程序\n",
      "http://www.appledaily.com.tw/realtimenews/article/new/20161117/991676/\n",
      "\n",
      "【論文風波郭明良鞠躬道歉：沒集體造假[影]】 0.9995063716183734\n",
      "---郭明良：未收賄未對價與嚴孟祿屬借貸台灣大學生化科學研究所教授郭明良今天表示\n",
      "---之後又有其他論文也被質疑造假\n",
      "---郭明良11月底向台大請辭\n",
      "---嚴孟祿知道他的經濟狀況後\n",
      "---後來進入台大\n",
      "http://www.cna.com.tw/news/firstnews/201612205010-1.aspx\n",
      "\n",
      "【教部暫未發現郭明良不法交廉政署再查】 0.9965987803050561\n",
      "---郭明良和台大醫院醫師嚴孟祿有多筆匯款紀錄\n",
      "---對於郭明良和嚴孟祿之間的多筆匯款紀錄\n",
      "---但暫時並未發現涉及不法或對價關係\n",
      "---但暫時並未發現涉及不法或對價關係\n",
      "---初步證實郭明良和嚴孟祿兩人確實有金錢來往\n",
      "http://www.cna.com.tw/news/ahel/201612200134-1.aspx\n",
      "\n",
      "【台大希望入學嘉中生錄取電機系】 1.0\n",
      "---台大「希望入學」共錄取30個名額\n",
      "---入學後的生活費與學業輔導\n",
      "---獲台大「希望入學」錄取電機工程學系\n",
      "---嘉義高中教務主任王德合指出\n",
      "---不僅擔任「千人相約護書包送肯亞」義工\n",
      "http://www.cna.com.tw/news/ahel/201612280134-1.aspx\n",
      "\n",
      "【台大論文造假案教改論壇籲教部介入調查】 0.9999999999592906\n",
      "---台大上周五說明台大教授郭明良論文造假案調查初步結果\n",
      "---建議教育部、科技部不能被動等待台大調查結果\n",
      "---說明台大教授郭明良論文造假案調查初步結果\n",
      "---台大調查小組與校長楊泮池間無法做到利益迴避\n",
      "---台大調查小組與校長楊泮池間無法做到利益迴避\n",
      "https://udn.com/news/story/6885/2236346?from=udn-catelistnews_ch1012\n",
      "\n",
      "【各國5倍高薪挖台大教授校友捐4700萬留才】 0.9916551874783135\n",
      "---「台大EMBA校友菁英學者講座」以聘任新進助理教授和副教授為主\n",
      "---台大EMBA校友捐贈4700萬元成立永續基金\n",
      "---設置「台大EMBA校友菁英學者講座」\n",
      "---台大副校長李書行、管理學院院長郭瑞祥和校友鄧傳馨共同出席台大EMBA校友菁英學者講座捐贈儀式\n",
      "---條件為聘任前三年未曾在國內任教\n",
      "http://udn.com/news/story/6/2188067\n",
      "\n",
      "【台大校長捲入論文造假教部下令嚴查】 0.9999999984769341\n",
      "---楊泮池更以第二作者共同掛名\n",
      "---指楊泮池列名共同作者的四篇論文\n",
      "---教育部已要求台大交調查報告\n",
      "---台大教授：有錯道歉沒錯力爭因楊泮池和郭明良均為教育部學術獎得主\n",
      "---掛名共同作者的楊泮池\n",
      "http://news.ltn.com.tw/news/life/paper/1053552\n",
      "\n",
      "【台大論文造假案郭明良請辭高醫大副校長】 0.9398391155810651\n",
      "---台灣大學生化所教授、高雄醫學大學副校長郭明良的研究團隊\n",
      "---郭明良日前已口頭向校方請辭\n",
      "---案發後只聲明辭去台大教授職務\n",
      "---郭明良擁有台大醫學院生化學研究所博士學位\n",
      "---原為台灣大學生命科學院院長\n",
      "http://news.ltn.com.tw/news/life/breakingnews/1898699\n",
      "\n",
      "【台大論文風波調查最快1月出爐】 0.9940104323947297\n",
      "---而郭明良學倫案目前仍在台大調查階段\n",
      "---楊泮池則重申\n",
      "---楊泮池表示\n",
      "---楊泮池再道歉盼研究並落實規範立院昨審大學預算\n",
      "---楊泮池再次致歉\n",
      "http://news.ltn.com.tw/news/life/paper/1065906\n",
      "\n",
      "【郭明良是否辭副校長高醫大：待討論】 0.9999522398134981\n",
      "---監委立案要深入調查前台大教授郭明良帶領的研究團隊被檢舉論文涉造假\n",
      "---其中相關人員是否涉有違失\n",
      "---但高醫大在前天召開的學術倫理委員會中\n",
      "---並追究相關人員是否有行政違失\n",
      "---至於國家衛生研究院癌症研究所副研究員蘇振良掛名第一作者的著作也捲入其中\n",
      "http://news.ltn.com.tw/news/life/paper/1053555\n",
      "\n"
     ]
    }
   ],
   "source": [
    "# 178 articles\n",
    "# Positive\n",
    "news_module.news_summary(title_path, news_path, href_path)"
   ]
  },
  {
   "cell_type": "code",
   "execution_count": 2,
   "metadata": {
    "collapsed": false,
    "scrolled": true
   },
   "outputs": [
    {
     "name": "stdout",
     "output_type": "stream",
     "text": [
      "Negative Articles\n",
      "\n",
      "【【論文造假】遭解聘台大美女教授張正琪泣訴是「代罪羔羊」】 8.909309705762425e-06\n",
      "---遭懲處最重的是台大口腔生物科學研究所美女教授張正琪\n",
      "---台大教評會上周公布郭明良團隊涉論文造假案懲處結果\n",
      "---無法接受這種「先射箭、再畫靶」的審議結果\n",
      "---無法接受這種「先射箭、再畫靶」的審議結果\n",
      "---決議解聘郭明良、張正琪等人\n",
      "http://www.appledaily.com.tw/realtimenews/article/new/20170302/1067116/\n",
      "\n",
      "【【論文造假】泣訴私德遭影射美女教授張正琪將控告網路霸凌】 2.6982838957634314e-06\n",
      "---將對網路霸凌者提出告訴、不輕放\n",
      "---台大教評會上周公布郭明良團隊涉論文造假案懲處結果\n",
      "---依學校慣例統一由主秘對外發言\n",
      "---決議解聘郭明良、張正琪等人\n",
      "---網路上出現13萬8千多筆攻擊她的負面言論\n",
      "http://www.appledaily.com.tw/realtimenews/article/new/20170302/1067250/\n",
      "\n",
      "【學界還繼續冷眼旁觀台大對論文造假案的「不處理」嗎？】 4.440892098500626e-16\n",
      "---以及台大對於郭仍可能領到的台灣生技醫藥發展基金會第三年補助金250萬元之「無可奈何」的卸責說詞後\n",
      "---至於台大對郭及其集團成員的處理\n",
      "---這件事的爆發原本有可能成為徹底檢討台灣學界長期只重視SCI和SSCI論文發表、論文掛名浮濫與造假、甚至於「學閥」壟斷研究資源等問題的契機\n",
      "---在郭「東窗事發」之前\n",
      "---不忘「拉幫結派」地壯大自己的研究團隊\n",
      "http://www.appledaily.com.tw/realtimenews/article/new/20170210/1053314/\n",
      "\n",
      "【【壹週刊】人渣文本觀點：學術倫理與政治倫理】 3.7118594864438137e-09\n",
      "---「現任校長」或許不需要為「過去教職員的研究造假」負責\n",
      "---但「這位仁兄」是否需要為「共同列名一篇造假論文」而辭去「現任校長職」以示負責呢\n",
      "---你之所以成為校長的那些「資本」\n",
      "---台大楊校長雖然在許多篇造假文章中列名共同作者\n",
      "---也不用辭去校長一職\n",
      "http://www.appledaily.com.tw/realtimenews/article/new/20170303/1067582/\n",
      "\n",
      "【台大論文造假案延燒學者呼籲楊泮池下台】 0.07740971754520365\n",
      "---教育部與各大學應提出因應方案\n",
      "---包括台大特聘教授黃光國、台大教授吳瑞屯、周祝瑛、東吳大學前校長劉源俊、長庚大學教授邱韻如等資深大學教授組成的教改論壇\n",
      "---科技部應提出積極應變措施\n",
      "---應為政治責任、學術誠信下台\n",
      "---這次出事的論文\n",
      "http://www.appledaily.com.tw/realtimenews/article/new/20161214/1011875/\n",
      "\n",
      "【【更新】台大論文涉造假科技部長：造假比抄襲更嚴重】 1.1306555691703579e-10\n",
      "---不代表該研究計畫的其他論文也有問題\n",
      "---蔡孟利以「一篇造假的論文危害有多大」為題指出\n",
      "---論文造假的危害比抄襲更嚴重\n",
      "---論文造假的危害比抄襲更嚴重\n",
      "---這些計畫的經費並不是全部挹注在這篇論文的研究中\n",
      "http://www.appledaily.com.tw/realtimenews/article/new/20161116/990037/\n",
      "\n",
      "【【科學月刊】台大論文造假疑案比前教育部長所涉案件嚴重的理由】 0.00011190684055262246\n",
      "---前台大教授、高醫大副校長郭明良被檢舉多達11篇論文涉及造假\n",
      "---台大生化所教授、現任高雄醫學大學副校長郭明良日前遭踢爆多篇論文涉嫌造假\n",
      "---讓生醫界重新出發\n",
      "---讓生醫界重新出發\n",
      "---請辭台大教職\n",
      "http://www.chinatimes.com/realtimenews/20161125005446-260405\n",
      "\n",
      "【論文造假案台大公布調查結果郭明良違反學術倫理有明顯過失】 0.0\n",
      "---郭明良與台大校長楊泮池共同發表的論文也遭懷疑違反學術倫理\n",
      "---郭明良研究團隊去年11月傳出涉造假論文數據\n",
      "---台大生命科學院已在去年的11月14日、11月24日、12月8日、12月19日召開4次會議\n",
      "---郭和台大校長楊泮池共同發表的論文也遭疑違反學術倫理\n",
      "---但郭去年11月9日自請調查\n",
      "http://www.appledaily.com.tw/realtimenews/article/new/20170113/1034738/\n",
      "\n",
      "【論文造假案台大：下月中有初步結果】 0.02691932965248678\n",
      "---校內調查在下個月中旬會有初步結果\n",
      "---台灣大學教授郭明良涉嫌論文造假\n",
      "---楊泮池表示\n",
      "---楊泮池指出\n",
      "---此事已經吸引社會很多關注\n",
      "http://www.appledaily.com.tw/realtimenews/article/new/20161226/1020838/\n",
      "\n",
      "【論文造假連環爆教長：涉案人別想先退休避責】 2.1235539993114116e-08\n",
      "---針對郭明良涉及造假論文數據部分\n",
      "---郭明良涉及造假論文數據部分\n",
      "---潘文忠今天在部務會議舉行前接受媒體訪問\n",
      "---潘文忠表示\n",
      "---潘文忠除表示震驚\n",
      "http://www.appledaily.com.tw/realtimenews/article/new/20161214/1012101/\n",
      "\n"
     ]
    }
   ],
   "source": [
    "# 178 articles\n",
    "# Negative\n",
    "news_module.news_summary(title_path, news_path, href_path)"
   ]
  },
  {
   "cell_type": "code",
   "execution_count": null,
   "metadata": {
    "collapsed": true
   },
   "outputs": [],
   "source": []
  }
 ],
 "metadata": {
  "kernelspec": {
   "display_name": "Python 3",
   "language": "python",
   "name": "python3"
  },
  "language_info": {
   "codemirror_mode": {
    "name": "ipython",
    "version": 3
   },
   "file_extension": ".py",
   "mimetype": "text/x-python",
   "name": "python",
   "nbconvert_exporter": "python",
   "pygments_lexer": "ipython3",
   "version": "3.5.2"
  }
 },
 "nbformat": 4,
 "nbformat_minor": 2
}

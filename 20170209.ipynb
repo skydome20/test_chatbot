{
 "cells": [
  {
   "cell_type": "code",
   "execution_count": 1,
   "metadata": {
    "collapsed": false
   },
   "outputs": [
    {
     "name": "stderr",
     "output_type": "stream",
     "text": [
      "Building prefix dict from /home/skydome20/Desktop/dbot/dbot.py3/jieba_dict/dict.txt.big ...\n",
      "Loading model from cache /tmp/jieba.u300776cf1c5f564361e07846b411a882.cache\n",
      "Loading model cost 3.083 seconds.\n",
      "Prefix dict has been built succesfully.\n"
     ]
    },
    {
     "name": "stdout",
     "output_type": "stream",
     "text": [
      "The question is : 一例一休的影響\n",
      "1st keywords:['一例', '一休', '影響']\n",
      "News Parsing Starts : ['一例', '一休', '影響']\n",
      "https://www.google.com.tw/search?tbm=nws&q=一例+一休+影響\n",
      "(新聞爬蟲進行中)\n",
      "\n",
      "...Parsing...\n",
      "...Parsing...\n",
      "...Parsing...\n",
      "...Parsing...\n",
      "...Parsing...\n",
      "...Parsing...\n",
      "------------------------------------------------------------------------------------------------\n",
      "#==============================================================================================#\n",
      "\n",
      "Extract associated keywords based on ['一例', '一休', '影響']\n",
      "The associated keywords are:['業者', '加班費', '加班', '漲價', '修法']\n",
      "2nd keywords:['業者', '加班費', '加班', '漲價', '修法']\n",
      "News Parsing Starts : ['業者', '加班費', '加班', '漲價', '修法']\n",
      "https://www.google.com.tw/search?tbm=nws&q=業者+加班費+加班+漲價+修法\n",
      "(新聞爬蟲進行中)\n",
      "\n",
      "...Parsing...\n",
      "...Parsing...\n",
      "...Parsing...\n",
      "...Parsing...\n",
      "...Parsing...\n",
      "...Parsing...\n",
      "------------------------------------------------------------------------------------------------\n",
      "#==============================================================================================#\n",
      "\n",
      "Extract associated keywords based on ['業者', '加班費', '加班', '漲價', '修法']\n",
      "The associated keywords are:['勞工', '勞基法', '客運']\n",
      "3rd keywords:['勞工', '勞基法', '客運']\n",
      "News Parsing Starts : ['勞工', '勞基法', '客運']\n",
      "https://www.google.com.tw/search?tbm=nws&q=勞工+勞基法+客運\n",
      "(新聞爬蟲進行中)\n",
      "\n",
      "...Parsing...\n",
      "...Parsing...\n",
      "...Parsing...\n",
      "...Parsing...\n",
      "...Parsing...\n",
      "...Parsing...\n",
      "------------------------------------------------------------------------------------------------\n",
      "#==============================================================================================#\n",
      "\n"
     ]
    }
   ],
   "source": [
    "%run main.py"
   ]
  },
  {
   "cell_type": "code",
   "execution_count": 1,
   "metadata": {
    "collapsed": false
   },
   "outputs": [
    {
     "name": "stderr",
     "output_type": "stream",
     "text": [
      "Building prefix dict from /home/skydome20/Desktop/dbot/dbot.py3/jieba_dict/dict.txt.big ...\n",
      "Loading model from cache /tmp/jieba.u300776cf1c5f564361e07846b411a882.cache\n",
      "Loading model cost 1.721 seconds.\n",
      "Prefix dict has been built succesfully.\n"
     ]
    },
    {
     "name": "stdout",
     "output_type": "stream",
     "text": [
      "The question is : Uber的罰款議題\n",
      "1st keywords:['Uber', '罰款', '議題']\n",
      "News Parsing Starts : ['Uber', '罰款', '議題']\n",
      "https://www.google.com.tw/search?tbm=nws&q=Uber+罰款+議題\n",
      "(新聞爬蟲進行中)\n",
      "\n",
      "...Parsing...\n",
      "...Parsing...\n",
      "\n",
      "\n",
      "...Parsing...\n",
      "...Parsing...\n",
      "...Parsing...\n",
      "...Parsing...\n",
      "------------------------------------------------------------------------------------------------\n",
      "#==============================================================================================#\n",
      "\n",
      "Extract associated keywords based on ['Uber', '罰款', '議題']\n",
      "The associated keywords are:['台灣', '計程車', '產業', '萬元', '司機']\n",
      "2nd keywords:['台灣', '計程車', '產業', '萬元', '司機']\n",
      "News Parsing Starts : ['台灣', '計程車', '產業', '萬元', '司機']\n",
      "https://www.google.com.tw/search?tbm=nws&q=台灣+計程車+產業+萬元+司機\n",
      "(新聞爬蟲進行中)\n",
      "\n",
      "...Parsing...\n",
      "...Parsing...\n",
      "...Parsing...\n",
      "...Parsing...\n",
      "\n",
      "...Parsing...\n",
      "...Parsing...\n",
      "------------------------------------------------------------------------------------------------\n",
      "#==============================================================================================#\n",
      "\n",
      "Extract associated keywords based on ['台灣', '計程車', '產業', '萬元', '司機']\n",
      "The associated keywords are:['交通部', 'UB', 'ER', '服務', '營業']\n",
      "3rd keywords:['交通部', 'UB', 'ER', '服務', '營業']\n",
      "------------------------------------------------------------------------------------------------\n",
      "#==============================================================================================#\n",
      "\n"
     ]
    }
   ],
   "source": [
    "%run main.py"
   ]
  },
  {
   "cell_type": "code",
   "execution_count": 1,
   "metadata": {
    "collapsed": false,
    "scrolled": true
   },
   "outputs": [
    {
     "name": "stderr",
     "output_type": "stream",
     "text": [
      "Building prefix dict from /home/skydome20/Desktop/dbot/dbot.py3/jieba_dict/dict.txt.big ...\n",
      "Loading model from cache /tmp/jieba.u300776cf1c5f564361e07846b411a882.cache\n",
      "Loading model cost 1.675 seconds.\n",
      "Prefix dict has been built succesfully.\n"
     ]
    },
    {
     "name": "stdout",
     "output_type": "stream",
     "text": [
      "The question is : 美國總統簽署行政命令\n",
      "1st keywords:['美國總統', '簽署', '行政命令']\n",
      "News Parsing Starts : ['美國總統', '簽署', '行政命令']\n",
      "https://www.google.com.tw/search?tbm=nws&q=美國總統+簽署+行政命令\n",
      "(新聞爬蟲進行中)\n",
      "\n",
      "...Parsing...\n",
      "...Parsing...\n",
      "...Parsing...\n",
      "...Parsing...\n",
      "...Parsing...\n",
      "...Parsing...\n",
      "------------------------------------------------------------------------------------------------\n",
      "#==============================================================================================#\n",
      "\n",
      "Extract associated keywords based on ['美國總統', '簽署', '行政命令']\n",
      "The associated keywords are:['川普', '美國', '總統', '聯邦', '難民']\n",
      "2nd keywords:['川普', '美國', '總統', '聯邦', '難民']\n",
      "News Parsing Starts : ['川普', '美國', '總統', '聯邦', '難民']\n",
      "https://www.google.com.tw/search?tbm=nws&q=川普+美國+總統+聯邦+難民\n",
      "(新聞爬蟲進行中)\n",
      "\n",
      "...Parsing...\n",
      "...Parsing...\n",
      "...Parsing...\n",
      "...Parsing...\n",
      "\n",
      "...Parsing...\n",
      "...Parsing...\n",
      "------------------------------------------------------------------------------------------------\n",
      "#==============================================================================================#\n",
      "\n",
      "Extract associated keywords based on ['川普', '美國', '總統', '聯邦', '難民']\n",
      "The associated keywords are:['禁令', '入境', '法官', '華盛頓州', '穆斯林']\n",
      "3rd keywords:['禁令', '入境', '法官', '華盛頓州', '穆斯林']\n",
      "------------------------------------------------------------------------------------------------\n",
      "#==============================================================================================#\n",
      "\n"
     ]
    }
   ],
   "source": [
    "%run main.py"
   ]
  },
  {
   "cell_type": "code",
   "execution_count": 1,
   "metadata": {
    "collapsed": false,
    "scrolled": true
   },
   "outputs": [
    {
     "name": "stderr",
     "output_type": "stream",
     "text": [
      "Building prefix dict from /home/skydome20/Desktop/dbot/dbot.py3/jieba_dict/dict.txt.big ...\n",
      "Loading model from cache /tmp/jieba.u300776cf1c5f564361e07846b411a882.cache\n",
      "Loading model cost 3.177 seconds.\n",
      "Prefix dict has been built succesfully.\n"
     ]
    },
    {
     "name": "stdout",
     "output_type": "stream",
     "text": [
      "The question is : 墨西哥長牆\n",
      "1st keywords:['墨西哥', '長', '牆']\n",
      "News Parsing Starts : ['墨西哥', '長', '牆']\n",
      "https://www.google.com.tw/search?tbm=nws&q=墨西哥+長+牆\n",
      "(新聞爬蟲進行中)\n",
      "\n",
      "...Parsing...\n",
      "...Parsing...\n",
      "...Parsing...\n",
      "...Parsing...\n",
      "...Parsing...\n",
      "...Parsing...\n",
      "------------------------------------------------------------------------------------------------\n",
      "#==============================================================================================#\n",
      "\n",
      "Extract associated keywords based on ['墨西哥', '長', '牆']\n",
      "The associated keywords are:['川普', '美國', '邊境', '總統', '墨國']\n",
      "2nd keywords:['川普', '美國', '邊境', '總統', '墨國']\n",
      "News Parsing Starts : ['川普', '美國', '邊境', '總統', '墨國']\n",
      "https://www.google.com.tw/search?tbm=nws&q=川普+美國+邊境+總統+墨國\n",
      "(新聞爬蟲進行中)\n",
      "\n",
      "...Parsing...\n",
      "...Parsing...\n",
      "...Parsing...\n",
      "\n",
      "...Parsing...\n",
      "...Parsing...\n",
      "...Parsing...\n",
      "------------------------------------------------------------------------------------------------\n",
      "#==============================================================================================#\n",
      "\n",
      "Extract associated keywords based on ['川普', '美國', '邊境', '總統', '墨國']\n",
      "The associated keywords are:['築牆', '墨西哥總統', '費用', '億美元']\n",
      "3rd keywords:['築牆', '墨西哥總統', '費用', '億美元']\n",
      "------------------------------------------------------------------------------------------------\n",
      "#==============================================================================================#\n",
      "\n"
     ]
    }
   ],
   "source": [
    "%run main.py"
   ]
  },
  {
   "cell_type": "code",
   "execution_count": 1,
   "metadata": {
    "collapsed": false
   },
   "outputs": [
    {
     "name": "stderr",
     "output_type": "stream",
     "text": [
      "Building prefix dict from /home/skydome20/Desktop/dbot/dbot.py3/jieba_dict/dict.txt.big ...\n",
      "Loading model from cache /tmp/jieba.u300776cf1c5f564361e07846b411a882.cache\n",
      "Loading model cost 1.834 seconds.\n",
      "Prefix dict has been built succesfully.\n"
     ]
    },
    {
     "name": "stdout",
     "output_type": "stream",
     "text": [
      "The question is : 內閣改組的影響\n",
      "1st keywords:['內閣', '改組', '影響']\n",
      "News Parsing Starts : ['內閣', '改組', '影響']\n",
      "https://www.google.com.tw/search?tbm=nws&q=內閣+改組+影響\n",
      "(新聞爬蟲進行中)\n",
      "\n",
      "...Parsing...\n",
      "...Parsing...\n",
      "\n",
      "...Parsing...\n",
      "...Parsing...\n",
      "...Parsing...\n",
      "\n",
      "...Parsing...\n",
      "------------------------------------------------------------------------------------------------\n",
      "#==============================================================================================#\n",
      "\n",
      "Extract associated keywords based on ['內閣', '改組', '影響']\n",
      "The associated keywords are:['一休', '團隊', '立委', '郭芳煜', '部長']\n",
      "2nd keywords:['一休', '團隊', '立委', '郭芳煜', '部長']\n",
      "News Parsing Starts : ['一休', '團隊', '立委', '郭芳煜', '部長']\n",
      "https://www.google.com.tw/search?tbm=nws&q=一休+團隊+立委+郭芳煜+部長\n",
      "(新聞爬蟲進行中)\n",
      "\n",
      "...Parsing...\n",
      "...Parsing...\n",
      "...Parsing...\n",
      "...Parsing...\n",
      "...Parsing...\n",
      "...Parsing...\n",
      "------------------------------------------------------------------------------------------------\n",
      "#==============================================================================================#\n",
      "\n",
      "Extract associated keywords based on ['一休', '團隊', '立委', '郭芳煜', '部長']\n",
      "The associated keywords are:['勞動部', '一例', '勞工', '民進黨', '週休二日']\n",
      "3rd keywords:['勞動部', '一例', '勞工', '民進黨', '週休二日']\n",
      "------------------------------------------------------------------------------------------------\n",
      "#==============================================================================================#\n",
      "\n"
     ]
    }
   ],
   "source": [
    "%run main.py"
   ]
  },
  {
   "cell_type": "code",
   "execution_count": 1,
   "metadata": {
    "collapsed": false
   },
   "outputs": [
    {
     "name": "stderr",
     "output_type": "stream",
     "text": [
      "Building prefix dict from /home/skydome20/Desktop/dbot/dbot.py3/jieba_dict/dict.txt.big ...\n",
      "Loading model from cache /tmp/jieba.u300776cf1c5f564361e07846b411a882.cache\n",
      "Loading model cost 2.105 seconds.\n",
      "Prefix dict has been built succesfully.\n"
     ]
    },
    {
     "name": "stdout",
     "output_type": "stream",
     "text": [
      "The question is : 升學制度與大學\n",
      "1st keywords:['升學', '制度', '大學']\n",
      "News Parsing Starts : ['升學', '制度', '大學']\n",
      "https://www.google.com.tw/search?tbm=nws&q=升學+制度+大學\n",
      "(新聞爬蟲進行中)\n",
      "\n",
      "...Parsing...\n",
      "...Parsing...\n",
      "...Parsing...\n",
      "...Parsing...\n",
      "...Parsing...\n",
      "\n",
      "...Parsing...\n",
      "------------------------------------------------------------------------------------------------\n",
      "#==============================================================================================#\n",
      "\n",
      "Extract associated keywords based on ['升學', '制度', '大學']\n",
      "The associated keywords are:['學生', '學習', '高中', '考試', '入學']\n",
      "2nd keywords:['學生', '學習', '高中', '考試', '入學']\n",
      "News Parsing Starts : ['學生', '學習', '高中', '考試', '入學']\n",
      "https://www.google.com.tw/search?tbm=nws&q=學生+學習+高中+考試+入學\n",
      "(新聞爬蟲進行中)\n",
      "\n",
      "...Parsing...\n",
      "...Parsing...\n",
      "...Parsing...\n",
      "...Parsing...\n",
      "...Parsing...\n",
      "...Parsing...\n",
      "------------------------------------------------------------------------------------------------\n",
      "#==============================================================================================#\n",
      "\n",
      "Extract associated keywords based on ['學生', '學習', '高中', '考試', '入學']\n",
      "The associated keywords are:['高三下', '考招', '申請', '招生', '成績']\n",
      "3rd keywords:['高三下', '考招', '申請', '招生', '成績']\n",
      "------------------------------------------------------------------------------------------------\n",
      "#==============================================================================================#\n",
      "\n"
     ]
    }
   ],
   "source": [
    "%run main.py"
   ]
  },
  {
   "cell_type": "code",
   "execution_count": 1,
   "metadata": {
    "collapsed": false
   },
   "outputs": [
    {
     "name": "stderr",
     "output_type": "stream",
     "text": [
      "Building prefix dict from /home/skydome20/Desktop/dbot/dbot.py3/jieba_dict/dict.txt.big ...\n",
      "Loading model from cache /tmp/jieba.u300776cf1c5f564361e07846b411a882.cache\n",
      "Loading model cost 1.539 seconds.\n",
      "Prefix dict has been built succesfully.\n"
     ]
    },
    {
     "name": "stdout",
     "output_type": "stream",
     "text": [
      "The question is : 蔡英文最近的動向\n",
      "1st keywords:['蔡英文', '最近', '動向']\n",
      "News Parsing Starts : ['蔡英文', '最近', '動向']\n",
      "https://www.google.com.tw/search?tbm=nws&q=蔡英文+最近+動向\n",
      "(新聞爬蟲進行中)\n",
      "\n",
      "...Parsing...\n",
      "...Parsing...\n",
      "...Parsing...\n",
      "...Parsing...\n",
      "...Parsing...\n",
      "...Parsing...\n",
      "------------------------------------------------------------------------------------------------\n",
      "#==============================================================================================#\n",
      "\n",
      "Extract associated keywords based on ['蔡英文', '最近', '動向']\n",
      "The associated keywords are:['總統', '台灣', '民調', '國家', '賴清德']\n",
      "2nd keywords:['總統', '台灣', '民調', '國家', '賴清德']\n",
      "News Parsing Starts : ['總統', '台灣', '民調', '國家', '賴清德']\n",
      "https://www.google.com.tw/search?tbm=nws&q=總統+台灣+民調+國家+賴清德\n",
      "(新聞爬蟲進行中)\n",
      "\n",
      "...Parsing...\n",
      "...Parsing...\n",
      "...Parsing...\n",
      "\n",
      "...Parsing...\n",
      "...Parsing...\n",
      "\n",
      "...Parsing...\n",
      "------------------------------------------------------------------------------------------------\n",
      "#==============================================================================================#\n",
      "\n",
      "Extract associated keywords based on ['總統', '台灣', '民調', '國家', '賴清德']\n",
      "The associated keywords are:['市長', '台南', '民進黨', '民眾', '執政']\n",
      "3rd keywords:['市長', '台南', '民進黨', '民眾', '執政']\n",
      "------------------------------------------------------------------------------------------------\n",
      "#==============================================================================================#\n",
      "\n"
     ]
    }
   ],
   "source": [
    "%run main.py"
   ]
  },
  {
   "cell_type": "code",
   "execution_count": 1,
   "metadata": {
    "collapsed": false,
    "scrolled": true
   },
   "outputs": [
    {
     "name": "stderr",
     "output_type": "stream",
     "text": [
      "Building prefix dict from /home/skydome20/Desktop/dbot/dbot.py3/jieba_dict/dict.txt.big ...\n",
      "Loading model from cache /tmp/jieba.u300776cf1c5f564361e07846b411a882.cache\n",
      "Loading model cost 1.606 seconds.\n",
      "Prefix dict has been built succesfully.\n"
     ]
    },
    {
     "name": "stdout",
     "output_type": "stream",
     "text": [
      "The question is : 中國與美國未來的關係\n",
      "1st keywords:['中國', '美國', '未來', '關係']\n",
      "News Parsing Starts : ['中國', '美國', '未來', '關係']\n",
      "https://www.google.com.tw/search?tbm=nws&q=中國+美國+未來+關係\n",
      "(新聞爬蟲進行中)\n",
      "\n",
      "...Parsing...\n",
      "...Parsing...\n",
      "...Parsing...\n",
      "...Parsing...\n",
      "...Parsing...\n",
      "...Parsing...\n",
      "------------------------------------------------------------------------------------------------\n",
      "#==============================================================================================#\n",
      "\n",
      "Extract associated keywords based on ['中國', '美國', '未來', '關係']\n",
      "The associated keywords are:['川普', '台灣', '問題', '總統', '中美關係']\n",
      "2nd keywords:['川普', '台灣', '問題', '總統', '中美關係']\n",
      "News Parsing Starts : ['川普', '台灣', '問題', '總統', '中美關係']\n",
      "https://www.google.com.tw/search?tbm=nws&q=川普+台灣+問題+總統+中美關係\n",
      "(新聞爬蟲進行中)\n",
      "\n",
      "...Parsing...\n",
      "...Parsing...\n",
      "...Parsing...\n",
      "...Parsing...\n",
      "...Parsing...\n",
      "...Parsing...\n",
      "------------------------------------------------------------------------------------------------\n",
      "#==============================================================================================#\n",
      "\n",
      "Extract associated keywords based on ['川普', '台灣', '問題', '總統', '中美關係']\n",
      "The associated keywords are:['談判', '大陸', '一中']\n",
      "3rd keywords:['談判', '大陸', '一中']\n",
      "------------------------------------------------------------------------------------------------\n",
      "#==============================================================================================#\n",
      "\n"
     ]
    }
   ],
   "source": [
    "%run main.py"
   ]
  },
  {
   "cell_type": "code",
   "execution_count": 1,
   "metadata": {
    "collapsed": false
   },
   "outputs": [
    {
     "name": "stderr",
     "output_type": "stream",
     "text": [
      "Building prefix dict from /home/skydome20/Desktop/dbot/dbot.py3/jieba_dict/dict.txt.big ...\n",
      "Loading model from cache /tmp/jieba.u300776cf1c5f564361e07846b411a882.cache\n",
      "Loading model cost 1.577 seconds.\n",
      "Prefix dict has been built succesfully.\n"
     ]
    },
    {
     "name": "stdout",
     "output_type": "stream",
     "text": [
      "The question is : 大學評鑑\n",
      "1st keywords:['大學', '評鑑']\n",
      "News Parsing Starts : ['大學', '評鑑']\n",
      "https://www.google.com.tw/search?tbm=nws&q=大學+評鑑\n",
      "(新聞爬蟲進行中)\n",
      "\n",
      "...Parsing...\n",
      "\n",
      "...Parsing...\n",
      "\n",
      "\n",
      "...Parsing...\n",
      "...Parsing...\n",
      "...Parsing...\n",
      "...Parsing...\n",
      "------------------------------------------------------------------------------------------------\n",
      "#==============================================================================================#\n",
      "\n",
      "Extract associated keywords based on ['大學', '評鑑']\n",
      "The associated keywords are:['學校', '學生', '教育部', '發展', '指標']\n",
      "2nd keywords:['學校', '學生', '教育部', '發展', '指標']\n",
      "News Parsing Starts : ['學校', '學生', '教育部', '發展', '指標']\n",
      "https://www.google.com.tw/search?tbm=nws&q=學校+學生+教育部+發展+指標\n",
      "(新聞爬蟲進行中)\n",
      "\n",
      "...Parsing...\n",
      "\n",
      "...Parsing...\n",
      "...Parsing...\n",
      "...Parsing...\n",
      "...Parsing...\n",
      "...Parsing...\n",
      "------------------------------------------------------------------------------------------------\n",
      "#==============================================================================================#\n",
      "\n",
      "Extract associated keywords based on ['學校', '學生', '教育部', '發展', '指標']\n",
      "The associated keywords are:['教師', '學習', '計畫', '台灣']\n",
      "3rd keywords:['教師', '學習', '計畫', '台灣']\n",
      "------------------------------------------------------------------------------------------------\n",
      "#==============================================================================================#\n",
      "\n"
     ]
    }
   ],
   "source": [
    "%run main.py"
   ]
  },
  {
   "cell_type": "code",
   "execution_count": null,
   "metadata": {
    "collapsed": true
   },
   "outputs": [],
   "source": []
  }
 ],
 "metadata": {
  "kernelspec": {
   "display_name": "Python 3",
   "language": "python",
   "name": "python3"
  },
  "language_info": {
   "codemirror_mode": {
    "name": "ipython",
    "version": 3
   },
   "file_extension": ".py",
   "mimetype": "text/x-python",
   "name": "python",
   "nbconvert_exporter": "python",
   "pygments_lexer": "ipython3",
   "version": "3.5.2"
  }
 },
 "nbformat": 4,
 "nbformat_minor": 2
}

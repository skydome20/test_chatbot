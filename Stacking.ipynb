{
 "cells": [
  {
   "cell_type": "code",
   "execution_count": 1,
   "metadata": {},
   "outputs": [],
   "source": [
    "# https://www.kaggle.com/mainya/stacking-xgboost-lightgbm-catboost\n",
    "import pandas as pd\n",
    "import numpy as np\n",
    "from sklearn.model_selection import train_test_split, KFold\n",
    "\n",
    "import xgboost as xgb\n",
    "import lightgbm as lgb\n",
    "\n",
    "import gc\n",
    "from sklearn.metrics import r2_score"
   ]
  },
  {
   "cell_type": "code",
   "execution_count": 2,
   "metadata": {},
   "outputs": [
    {
     "data": {
      "text/html": [
       "<div>\n",
       "<style scoped>\n",
       "    .dataframe tbody tr th:only-of-type {\n",
       "        vertical-align: middle;\n",
       "    }\n",
       "\n",
       "    .dataframe tbody tr th {\n",
       "        vertical-align: top;\n",
       "    }\n",
       "\n",
       "    .dataframe thead th {\n",
       "        text-align: right;\n",
       "    }\n",
       "</style>\n",
       "<table border=\"1\" class=\"dataframe\">\n",
       "  <thead>\n",
       "    <tr style=\"text-align: right;\">\n",
       "      <th></th>\n",
       "      <th>TrainCharacteristicIC</th>\n",
       "      <th>TrainCharacteristicLM</th>\n",
       "      <th>TrainCharacteristicSPR</th>\n",
       "      <th>Trainnumber11618</th>\n",
       "      <th>Trainnumber11622</th>\n",
       "      <th>Trainnumber11623</th>\n",
       "      <th>Trainnumber11627</th>\n",
       "      <th>Trainnumber11716</th>\n",
       "      <th>Trainnumber11720</th>\n",
       "      <th>Trainnumber11721</th>\n",
       "      <th>...</th>\n",
       "      <th>Rain</th>\n",
       "      <th>Slack</th>\n",
       "      <th>DelayJump</th>\n",
       "      <th>SlackSum</th>\n",
       "      <th>DriverDelay</th>\n",
       "      <th>DriverToNow</th>\n",
       "      <th>RollDelay_co</th>\n",
       "      <th>RollToNow_co</th>\n",
       "      <th>RollDelay_cn</th>\n",
       "      <th>RollToNow_cn</th>\n",
       "    </tr>\n",
       "  </thead>\n",
       "  <tbody>\n",
       "    <tr>\n",
       "      <th>0</th>\n",
       "      <td>1</td>\n",
       "      <td>0</td>\n",
       "      <td>0</td>\n",
       "      <td>0</td>\n",
       "      <td>0</td>\n",
       "      <td>0</td>\n",
       "      <td>0</td>\n",
       "      <td>0</td>\n",
       "      <td>0</td>\n",
       "      <td>0</td>\n",
       "      <td>...</td>\n",
       "      <td>0.6</td>\n",
       "      <td>-29.0</td>\n",
       "      <td>17</td>\n",
       "      <td>10.0</td>\n",
       "      <td>122</td>\n",
       "      <td>2640.0</td>\n",
       "      <td>0</td>\n",
       "      <td>0.0</td>\n",
       "      <td>0</td>\n",
       "      <td>0.0</td>\n",
       "    </tr>\n",
       "    <tr>\n",
       "      <th>1</th>\n",
       "      <td>1</td>\n",
       "      <td>0</td>\n",
       "      <td>0</td>\n",
       "      <td>0</td>\n",
       "      <td>0</td>\n",
       "      <td>0</td>\n",
       "      <td>0</td>\n",
       "      <td>0</td>\n",
       "      <td>0</td>\n",
       "      <td>0</td>\n",
       "      <td>...</td>\n",
       "      <td>0.6</td>\n",
       "      <td>14.0</td>\n",
       "      <td>32</td>\n",
       "      <td>43.0</td>\n",
       "      <td>122</td>\n",
       "      <td>3120.0</td>\n",
       "      <td>0</td>\n",
       "      <td>0.0</td>\n",
       "      <td>0</td>\n",
       "      <td>0.0</td>\n",
       "    </tr>\n",
       "    <tr>\n",
       "      <th>2</th>\n",
       "      <td>1</td>\n",
       "      <td>0</td>\n",
       "      <td>0</td>\n",
       "      <td>0</td>\n",
       "      <td>0</td>\n",
       "      <td>0</td>\n",
       "      <td>0</td>\n",
       "      <td>0</td>\n",
       "      <td>0</td>\n",
       "      <td>0</td>\n",
       "      <td>...</td>\n",
       "      <td>0.6</td>\n",
       "      <td>-28.0</td>\n",
       "      <td>-40</td>\n",
       "      <td>92.0</td>\n",
       "      <td>122</td>\n",
       "      <td>3240.0</td>\n",
       "      <td>0</td>\n",
       "      <td>0.0</td>\n",
       "      <td>0</td>\n",
       "      <td>0.0</td>\n",
       "    </tr>\n",
       "    <tr>\n",
       "      <th>3</th>\n",
       "      <td>1</td>\n",
       "      <td>0</td>\n",
       "      <td>0</td>\n",
       "      <td>0</td>\n",
       "      <td>0</td>\n",
       "      <td>0</td>\n",
       "      <td>0</td>\n",
       "      <td>0</td>\n",
       "      <td>0</td>\n",
       "      <td>0</td>\n",
       "      <td>...</td>\n",
       "      <td>0.6</td>\n",
       "      <td>42.0</td>\n",
       "      <td>42</td>\n",
       "      <td>78.0</td>\n",
       "      <td>122</td>\n",
       "      <td>3480.0</td>\n",
       "      <td>0</td>\n",
       "      <td>0.0</td>\n",
       "      <td>0</td>\n",
       "      <td>0.0</td>\n",
       "    </tr>\n",
       "    <tr>\n",
       "      <th>4</th>\n",
       "      <td>1</td>\n",
       "      <td>0</td>\n",
       "      <td>0</td>\n",
       "      <td>0</td>\n",
       "      <td>0</td>\n",
       "      <td>0</td>\n",
       "      <td>0</td>\n",
       "      <td>0</td>\n",
       "      <td>0</td>\n",
       "      <td>0</td>\n",
       "      <td>...</td>\n",
       "      <td>0.6</td>\n",
       "      <td>-12.0</td>\n",
       "      <td>15</td>\n",
       "      <td>49.0</td>\n",
       "      <td>122</td>\n",
       "      <td>3600.0</td>\n",
       "      <td>0</td>\n",
       "      <td>0.0</td>\n",
       "      <td>0</td>\n",
       "      <td>0.0</td>\n",
       "    </tr>\n",
       "  </tbody>\n",
       "</table>\n",
       "<p>5 rows × 3291 columns</p>\n",
       "</div>"
      ],
      "text/plain": [
       "   TrainCharacteristicIC  TrainCharacteristicLM  TrainCharacteristicSPR  \\\n",
       "0                      1                      0                       0   \n",
       "1                      1                      0                       0   \n",
       "2                      1                      0                       0   \n",
       "3                      1                      0                       0   \n",
       "4                      1                      0                       0   \n",
       "\n",
       "   Trainnumber11618  Trainnumber11622  Trainnumber11623  Trainnumber11627  \\\n",
       "0                 0                 0                 0                 0   \n",
       "1                 0                 0                 0                 0   \n",
       "2                 0                 0                 0                 0   \n",
       "3                 0                 0                 0                 0   \n",
       "4                 0                 0                 0                 0   \n",
       "\n",
       "   Trainnumber11716  Trainnumber11720  Trainnumber11721      ...       Rain  \\\n",
       "0                 0                 0                 0      ...        0.6   \n",
       "1                 0                 0                 0      ...        0.6   \n",
       "2                 0                 0                 0      ...        0.6   \n",
       "3                 0                 0                 0      ...        0.6   \n",
       "4                 0                 0                 0      ...        0.6   \n",
       "\n",
       "   Slack  DelayJump  SlackSum  DriverDelay  DriverToNow  RollDelay_co  \\\n",
       "0  -29.0         17      10.0          122       2640.0             0   \n",
       "1   14.0         32      43.0          122       3120.0             0   \n",
       "2  -28.0        -40      92.0          122       3240.0             0   \n",
       "3   42.0         42      78.0          122       3480.0             0   \n",
       "4  -12.0         15      49.0          122       3600.0             0   \n",
       "\n",
       "   RollToNow_co  RollDelay_cn  RollToNow_cn  \n",
       "0           0.0             0           0.0  \n",
       "1           0.0             0           0.0  \n",
       "2           0.0             0           0.0  \n",
       "3           0.0             0           0.0  \n",
       "4           0.0             0           0.0  \n",
       "\n",
       "[5 rows x 3291 columns]"
      ]
     },
     "execution_count": 2,
     "metadata": {},
     "output_type": "execute_result"
    }
   ],
   "source": [
    "df = pd.read_csv(\"./Data8.csv\", engine='python')\n",
    "df = df.drop(['Unnamed: 0'], axis=1)\n",
    "input_dim = df.shape[1] - 1  # only X dim\n",
    "df.head()"
   ]
  },
  {
   "cell_type": "code",
   "execution_count": 3,
   "metadata": {},
   "outputs": [],
   "source": [
    "# split data into train and test\n",
    "X=np.array(df.drop(['DelayJump'], axis=1))\n",
    "y=np.array(df['DelayJump'] )# df.DelayJump\n",
    "X_train, X_test, y_train, y_test = train_test_split(X, y, test_size=0.2, random_state=42)"
   ]
  },
  {
   "cell_type": "code",
   "execution_count": 4,
   "metadata": {},
   "outputs": [
    {
     "data": {
      "text/plain": [
       "((81744, 3290), (20437, 3290))"
      ]
     },
     "execution_count": 4,
     "metadata": {},
     "output_type": "execute_result"
    }
   ],
   "source": [
    "X_train.shape, X_test.shape"
   ]
  },
  {
   "cell_type": "code",
   "execution_count": 5,
   "metadata": {},
   "outputs": [
    {
     "data": {
      "text/plain": [
       "129"
      ]
     },
     "execution_count": 5,
     "metadata": {},
     "output_type": "execute_result"
    }
   ],
   "source": [
    "del df, X, y\n",
    "gc.collect()"
   ]
  },
  {
   "cell_type": "markdown",
   "metadata": {},
   "source": [
    "# Build model for basic information (XGB, LGB)"
   ]
  },
  {
   "cell_type": "code",
   "execution_count": 6,
   "metadata": {},
   "outputs": [],
   "source": [
    "def mae(y_test, y_pred):\n",
    "    return (sum(abs(y_test-y_pred))/len(y_test) )"
   ]
  },
  {
   "cell_type": "code",
   "execution_count": null,
   "metadata": {},
   "outputs": [],
   "source": [
    "class XgbWrapper(object):\n",
    "    def __init__(self, params=None, nrounds=200, seed=122):\n",
    "        self.params = params\n",
    "        self.params['seed'] = seed\n",
    "        self.nrounds = nrounds\n",
    "\n",
    "    def train(self, X_train, y_train, X_test, y_test):\n",
    "        dtrain = xgb.DMatrix(X_train, label=y_train)\n",
    "        dtest = xgb.DMatrix(X_test, label=y_test)\n",
    "        watchlist = [(dtrain, 'train'), (dtest, 'test')]\n",
    "        self.model = xgb.train(self.params, dtrain, self.nrounds, watchlist, \n",
    "                               early_stopping_rounds=30, verbose_eval=50)\n",
    "        \n",
    "    def predict(self, x):\n",
    "        return self.model.predict(xgb.DMatrix(x))  \n",
    "    \n",
    "xgb_params ={\n",
    "  'subsample' : 0.8,   \n",
    "  'colsample_bytree' : 0.8,                         \n",
    "  'booster' : \"gbtree\",\n",
    "  'max_depth' : 10,  \n",
    "  'learning_rate':0.01 ,\n",
    "  'eval_metric' : \"mae\",                      \n",
    "  'objective' : \"reg:linear\"\n",
    "}"
   ]
  },
  {
   "cell_type": "code",
   "execution_count": null,
   "metadata": {},
   "outputs": [
    {
     "name": "stdout",
     "output_type": "stream",
     "text": [
      "[0]\ttrain-mae:74.3983\ttest-mae:73.727\n",
      "Multiple eval metrics have been passed: 'test-mae' will be used for early stopping.\n",
      "\n",
      "Will train until test-mae hasn't improved in 30 rounds.\n",
      "[50]\ttrain-mae:68.0448\ttest-mae:67.7512\n",
      "[100]\ttrain-mae:64.4656\ttest-mae:64.5896\n",
      "[150]\ttrain-mae:62.2085\ttest-mae:62.7571\n",
      "[200]\ttrain-mae:60.6584\ttest-mae:61.6097\n"
     ]
    }
   ],
   "source": [
    "XGB_model = XgbWrapper(params = xgb_params, nrounds=50000)\n",
    "XGB_model.train(X_train, y_train, X_test, y_test)"
   ]
  },
  {
   "cell_type": "code",
   "execution_count": null,
   "metadata": {},
   "outputs": [],
   "source": [
    "class LgbWrapper(object):\n",
    "    def __init__(self, params=None, nrounds=200, seed=122):\n",
    "        self.params = params\n",
    "        self.params['seed'] = seed\n",
    "        self.nrounds = nrounds\n",
    "\n",
    "    def train(self, X_train, y_train, X_test, y_test):\n",
    "        dtrain = lgb.Dataset(X_train, label=y_train)\n",
    "        dtest = lgb.Dataset(X_test, label=y_test)\n",
    "        watchlist = [(dtrain, 'train'), (dtest, 'test')]\n",
    "        self.model = lgb.train(self.params, dtrain, self.nrounds, [dtrain, dtest], \n",
    "                               early_stopping_rounds=30, verbose_eval=50)\n",
    "\n",
    "    def predict(self, x):\n",
    "        return self.model.predict(x)\n",
    "    \n",
    "lgb_params ={\n",
    "  'bagging_fraction' : 0.8,  \n",
    "  'feature_fraction' : 0.8,                              \n",
    "  'boosting_type' : \"gbdt\",\n",
    "  'max_depth' : 10,\n",
    "  'learning_rate':0.01,\n",
    "  'metric' : \"mae\",                      \n",
    "  'objective' : \"regression\"\n",
    "}"
   ]
  },
  {
   "cell_type": "code",
   "execution_count": null,
   "metadata": {},
   "outputs": [],
   "source": [
    "LGB_model = LgbWrapper(params = lgb_params, nrounds=50000)\n",
    "LGB_model.train(X_train, y_train, X_test, y_test)"
   ]
  },
  {
   "cell_type": "code",
   "execution_count": null,
   "metadata": {},
   "outputs": [],
   "source": [
    "y_pred = XGB_model.predict(X_test)\n",
    "mae(y_test, y_pred)"
   ]
  },
  {
   "cell_type": "code",
   "execution_count": null,
   "metadata": {},
   "outputs": [],
   "source": [
    "y_pred = LGB_model.predict(X_test)\n",
    "mae(y_test, y_pred)"
   ]
  },
  {
   "cell_type": "markdown",
   "metadata": {},
   "source": [
    "# Stacking"
   ]
  },
  {
   "cell_type": "code",
   "execution_count": null,
   "metadata": {},
   "outputs": [],
   "source": [
    "n_fold = 2\n",
    "kf = KFold(n_splits=n_fold)\n",
    "for train_index, valid_index in kf.split(X_train):\n",
    "    print(train_index,  len(train_index), valid_index, len(valid_index))"
   ]
  },
  {
   "cell_type": "code",
   "execution_count": null,
   "metadata": {},
   "outputs": [],
   "source": [
    "# The first stage #\n",
    "n_fold = 5\n",
    "kf = KFold(n_splits=n_fold)\n",
    "df_count = 1\n",
    "metaTrain = {}\n",
    "init_array = np.zeros(y_test.shape[0])\n",
    "metaTest = {'XGB_1_META': init_array,\n",
    "           'LGB_1_META': init_array}\n",
    "\n",
    "\n",
    "for train_index, meta_index in kf.split(X_train):\n",
    "    \n",
    "    print('====== Round: ', df_count, ' =============')\n",
    "    metaTrain_dict = {}\n",
    "   \n",
    "    X_train_train = X_train[train_index]\n",
    "    y_train_train = y_train[train_index]\n",
    "    X_train_meta = X_train[meta_index]\n",
    "    y_train_meta = y_train[meta_index]\n",
    "    metaTrain_dict['y_train_meta'] = list(y_train_meta)\n",
    "    \n",
    "    # XGB-1\n",
    "    print('======= XGB-1 =======')\n",
    "    XGB_model = XgbWrapper(params = xgb_params, nrounds=50000)\n",
    "    XGB_model.train(X_train_train, y_train_train, X_train_meta, y_train_meta)\n",
    "    metaTrain_dict['XGB_1_META'] = XGB_model.predict(X_train_meta)\n",
    "    metaTest['XGB_1_META'] = metaTest['XGB_1_META'] + XGB_model.predict(X_test)\n",
    "    print(metaTrain_dict['XGB_1_META'], metaTest['XGB_1_META'])\n",
    "    \n",
    "    # LGB-1\n",
    "    print('======= LGB-1 =======')\n",
    "    LGB_model = LgbWrapper(params = lgb_params, nrounds=50000)\n",
    "    LGB_model.train(X_train_train, y_train_train, X_train_meta, y_train_meta)\n",
    "    metaTrain_dict['LGB_1_META'] = LGB_model.predict(X_train_meta)\n",
    "    metaTest['LGB_1_META'] = metaTest['LGB_1_META'] + LGB_model.predict(X_test)\n",
    "    print(metaTrain_dict['LGB_1_META'], metaTest['LGB_1_META'])\n",
    "    \n",
    "    # record meta-result\n",
    "    metaTrain[df_count] = pd.DataFrame.from_dict(metaTrain_dict)\n",
    "    print(metaTrain[df_count].shape, metaTrain[df_count].head())\n",
    "    df_count += 1\n",
    "    \n",
    "metaTest['XGB_1_META'] = metaTest['XGB_1_META'] / df_count\n",
    "metaTest['LGB_1_META'] = metaTest['LGB_1_META'] / df_count\n",
    "metaTest['y_train_meta'] = y_test"
   ]
  },
  {
   "cell_type": "code",
   "execution_count": null,
   "metadata": {},
   "outputs": [],
   "source": [
    "metaTest"
   ]
  },
  {
   "cell_type": "code",
   "execution_count": null,
   "metadata": {},
   "outputs": [],
   "source": [
    "meta_Train = pd.concat(metaTrain.values(), ignore_index=True)\n",
    "meta_Test = pd.DataFrame.from_dict(metaTest)\n",
    "meta_Train.shape, meta_Test.shape"
   ]
  },
  {
   "cell_type": "code",
   "execution_count": null,
   "metadata": {},
   "outputs": [],
   "source": [
    "meta_Train.head() , meta_Test.head() "
   ]
  },
  {
   "cell_type": "code",
   "execution_count": null,
   "metadata": {},
   "outputs": [],
   "source": [
    "# The second stage #\n",
    "metaTrain_X = np.array(meta_Train.drop(['y_train_meta'], axis=1))\n",
    "metaTrain_y = np.array(meta_Train['y_train_meta'])\n",
    "metaTest_X = np.array(meta_Test.drop(['y_train_meta'], axis=1))\n",
    "metaTest_y = np.array(meta_Test['y_train_meta'])\n",
    "\n",
    "blender = XgbWrapper(params = xgb_params, nrounds=50000)\n",
    "blender.train(metaTrain_X, metaTrain_y, metaTest_X, metaTest_y)"
   ]
  },
  {
   "cell_type": "code",
   "execution_count": null,
   "metadata": {},
   "outputs": [],
   "source": []
  }
 ],
 "metadata": {
  "kernelspec": {
   "display_name": "Python 3",
   "language": "python",
   "name": "python3"
  },
  "language_info": {
   "codemirror_mode": {
    "name": "ipython",
    "version": 3
   },
   "file_extension": ".py",
   "mimetype": "text/x-python",
   "name": "python",
   "nbconvert_exporter": "python",
   "pygments_lexer": "ipython3",
   "version": "3.6.4"
  }
 },
 "nbformat": 4,
 "nbformat_minor": 2
}

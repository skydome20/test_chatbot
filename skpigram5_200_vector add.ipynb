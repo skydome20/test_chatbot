{
 "cells": [
  {
   "cell_type": "code",
   "execution_count": 4,
   "metadata": {
    "collapsed": true
   },
   "outputs": [],
   "source": [
    "from gensim.models import word2vec\n",
    "from gensim import models\n",
    "import warnings\n",
    "warnings.filterwarnings(\"ignore\", category=DeprecationWarning) \n",
    "from sklearn.metrics.pairwise import cosine_similarity"
   ]
  },
  {
   "cell_type": "code",
   "execution_count": 5,
   "metadata": {
    "collapsed": true
   },
   "outputs": [],
   "source": [
    "path = \"/home/skydome20/Desktop/dbot/dbot.py3/wiki_word2vec_set/wiki_article_word2vector_200_skipgram5_model.bin\""
   ]
  },
  {
   "cell_type": "code",
   "execution_count": 6,
   "metadata": {
    "collapsed": false
   },
   "outputs": [],
   "source": [
    "model = models.Word2Vec.load_word2vec_format(path, binary=True)"
   ]
  },
  {
   "cell_type": "code",
   "execution_count": 60,
   "metadata": {
    "collapsed": false
   },
   "outputs": [],
   "source": [
    "combin_vec = model[\"生命\"] + model[\"演化\"]\n",
    "all_voc = model.vocab\n",
    "\n",
    "# cosine similarity\n",
    "tmp = dict()\n",
    "\n",
    "for voc in all_voc:\n",
    "    voc_vec = model[voc]\n",
    "    cos_sim = cosine_similarity(combin_vec,voc_vec)\n",
    "    tmp[voc] = float(cos_sim)\n",
    "    \n",
    "# sort words by weights\n",
    "lst = list()\n",
    "for (key,val) in tmp.items():\n",
    "\tlst.append( (key,val) )\n",
    "\n",
    "result = sorted(lst, key=lambda x: x[1], reverse=True)"
   ]
  },
  {
   "cell_type": "code",
   "execution_count": 61,
   "metadata": {
    "collapsed": false
   },
   "outputs": [
    {
     "data": {
      "text/plain": [
       "[('演化', 0.852890133857727),\n",
       " ('生命', 0.7900500297546387),\n",
       " ('物種演化', 0.7349685430526733),\n",
       " ('生命的起源', 0.7271102666854858),\n",
       " ('微觀演化', 0.7142958045005798),\n",
       " ('輻射演化', 0.704292356967926),\n",
       " ('超性', 0.69977205991745),\n",
       " ('生物演化', 0.6979304552078247),\n",
       " ('幾億年', 0.6966460943222046),\n",
       " ('共同演化', 0.6961905360221863)]"
      ]
     },
     "execution_count": 61,
     "metadata": {},
     "output_type": "execute_result"
    }
   ],
   "source": [
    "# \"生命\" + \"演化\"\n",
    "result[0:10]"
   ]
  },
  {
   "cell_type": "code",
   "execution_count": 59,
   "metadata": {
    "collapsed": false
   },
   "outputs": [
    {
     "data": {
      "text/plain": [
       "[('民主', 0.9091911315917969),\n",
       " ('共產', 0.9016913771629333),\n",
       " ('自由民主', 0.779654860496521),\n",
       " ('社會主義', 0.7650948166847229),\n",
       " ('共產黨', 0.7621148824691772),\n",
       " ('革命左翼', 0.7568141222000122),\n",
       " ('法國工人共產黨', 0.7541429400444031),\n",
       " ('民主自由', 0.751799464225769),\n",
       " ('社會民主', 0.7510810494422913),\n",
       " ('民主和', 0.7489460110664368)]"
      ]
     },
     "execution_count": 59,
     "metadata": {},
     "output_type": "execute_result"
    }
   ],
   "source": [
    "# \"民主\" + \"共產\"\n",
    "result[0:10]"
   ]
  },
  {
   "cell_type": "code",
   "execution_count": 57,
   "metadata": {
    "collapsed": false
   },
   "outputs": [
    {
     "data": {
      "text/plain": [
       "[('演員', 0.8183861970901489),\n",
       " ('英國', 0.7618459463119507),\n",
       " ('聚散離合', 0.7039192318916321),\n",
       " ('成人模特兒', 0.7009785771369934),\n",
       " ('家有芳鄰', 0.6980038285255432),\n",
       " ('柯登', 0.6937001943588257),\n",
       " ('單口喜劇', 0.6891171336174011),\n",
       " ('勞在', 0.6854248642921448),\n",
       " ('範堡羅', 0.6805265545845032),\n",
       " ('時尚模特', 0.6772831678390503)]"
      ]
     },
     "execution_count": 57,
     "metadata": {},
     "output_type": "execute_result"
    }
   ],
   "source": [
    "# \"英國\" + \"演員\"\n",
    "result[0:10]"
   ]
  },
  {
   "cell_type": "code",
   "execution_count": 55,
   "metadata": {
    "collapsed": false
   },
   "outputs": [
    {
     "data": {
      "text/plain": [
       "[('倫敦', 0.9105628728866577),\n",
       " ('英國', 0.9020313024520874),\n",
       " ('英國倫敦', 0.814979076385498),\n",
       " ('愛丁堡', 0.7812508344650269),\n",
       " ('蘇格蘭', 0.7537840008735657),\n",
       " ('英格蘭', 0.7457415461540222),\n",
       " ('都柏林', 0.7410038113594055),\n",
       " ('愛爾蘭', 0.7353561520576477),\n",
       " ('格拉斯哥', 0.7267111539840698),\n",
       " ('曼徹斯特', 0.72524493932724)]"
      ]
     },
     "execution_count": 55,
     "metadata": {},
     "output_type": "execute_result"
    }
   ],
   "source": [
    "# \"英國\" + \"倫敦\"\n",
    "result[0:10]"
   ]
  },
  {
   "cell_type": "code",
   "execution_count": 53,
   "metadata": {
    "collapsed": false
   },
   "outputs": [
    {
     "data": {
      "text/plain": [
       "[('首都', 0.8038384914398193),\n",
       " ('英國', 0.7710345387458801),\n",
       " ('瑞典大使館', 0.7525832056999207),\n",
       " ('愛莎尼亞', 0.7346155047416687),\n",
       " ('德屬薩摩亞', 0.7320807576179504),\n",
       " ('斯坦利港', 0.728084921836853),\n",
       " ('低地三國', 0.7272164225578308),\n",
       " ('託管期', 0.7252195477485657),\n",
       " ('英屬東非', 0.7217848300933838),\n",
       " ('巴勒斯坦託管地', 0.7208925485610962)]"
      ]
     },
     "execution_count": 53,
     "metadata": {},
     "output_type": "execute_result"
    }
   ],
   "source": [
    "# \"英國\" + \"首都\"\n",
    "result[0:10]"
   ]
  },
  {
   "cell_type": "code",
   "execution_count": 51,
   "metadata": {
    "collapsed": false
   },
   "outputs": [
    {
     "data": {
      "text/plain": [
       "[('體制', 0.8301454782485962),\n",
       " ('中國', 0.7991663217544556),\n",
       " ('中國選舉', 0.6984748244285583),\n",
       " ('經濟體制', 0.688035786151886),\n",
       " ('國有制', 0.6867567896842957),\n",
       " ('中國國情', 0.6830400824546814),\n",
       " ('社會主義市場經濟體制', 0.680327296257019),\n",
       " ('有中國特色的社會主義', 0.6779964566230774),\n",
       " ('民族區域自治制度', 0.6766387224197388),\n",
       " ('經濟交往', 0.6759886145591736)]"
      ]
     },
     "execution_count": 51,
     "metadata": {},
     "output_type": "execute_result"
    }
   ],
   "source": [
    "# \"中國\" + \"體制\"\n",
    "result[0:10]"
   ]
  },
  {
   "cell_type": "code",
   "execution_count": 49,
   "metadata": {
    "collapsed": false
   },
   "outputs": [
    {
     "data": {
      "text/plain": [
       "[('社會', 0.8245112299919128),\n",
       " ('中國', 0.8225139379501343),\n",
       " ('中國國情', 0.6734681725502014),\n",
       " ('版權產業', 0.6712887287139893),\n",
       " ('全面進步', 0.6694560647010803),\n",
       " ('熱點問題', 0.6670850515365601),\n",
       " ('差序', 0.6660864949226379),\n",
       " ('國進民退', 0.6630488038063049),\n",
       " ('中國選舉', 0.6593554019927979),\n",
       " ('畸形發展', 0.6589654088020325)]"
      ]
     },
     "execution_count": 49,
     "metadata": {},
     "output_type": "execute_result"
    }
   ],
   "source": [
    "# \"中國\" + \"社會\"\n",
    "result[0:10]"
   ]
  },
  {
   "cell_type": "code",
   "execution_count": 41,
   "metadata": {
    "collapsed": false
   },
   "outputs": [
    {
     "data": {
      "text/plain": [
       "[('選舉', 0.820928156375885),\n",
       " ('美國中期選舉', 0.7283334732055664),\n",
       " ('伊朗城鄉議會', 0.7273567914962769),\n",
       " ('超級星期二', 0.7256495356559753),\n",
       " ('民主黨全國代表大會', 0.7213727831840515),\n",
       " ('共和黨全國代表大會', 0.7199342846870422),\n",
       " ('美國選舉', 0.715059220790863),\n",
       " ('國會工黨', 0.7047132849693298),\n",
       " ('美國選舉人團', 0.7040778994560242),\n",
       " ('郝爾彬', 0.70340496301651)]"
      ]
     },
     "execution_count": 41,
     "metadata": {},
     "output_type": "execute_result"
    }
   ],
   "source": [
    "# \"美國\" + \"選舉\"\n",
    "result[0:10]"
   ]
  },
  {
   "cell_type": "code",
   "execution_count": 37,
   "metadata": {
    "collapsed": false
   },
   "outputs": [
    {
     "data": {
      "text/plain": [
       "[('首都', 0.8044247627258301),\n",
       " ('德國', 0.7867887616157532),\n",
       " ('美茵河畔法蘭克福', 0.7589874267578125),\n",
       " ('愛莎尼亞', 0.7567281126976013),\n",
       " ('低地三國', 0.7484901547431946),\n",
       " ('黑森邦', 0.7480060458183289),\n",
       " ('pressburg', 0.7432047128677368),\n",
       " ('美因河畔法蘭克福', 0.7419828772544861),\n",
       " ('薩克森自由州', 0.7418416142463684),\n",
       " ('蘇臺德地區', 0.7403161525726318)]"
      ]
     },
     "execution_count": 37,
     "metadata": {},
     "output_type": "execute_result"
    }
   ],
   "source": [
    "# \"德國\" + \"首都\"\n",
    "result[0:10]"
   ]
  },
  {
   "cell_type": "code",
   "execution_count": 39,
   "metadata": {
    "collapsed": false
   },
   "outputs": [
    {
     "data": {
      "text/plain": [
       "[('道德', 0.8143295049667358),\n",
       " ('中國', 0.7883391380310059),\n",
       " ('倫理', 0.7121652364730835),\n",
       " ('道德倫理', 0.7015688419342041),\n",
       " ('法制觀念', 0.7011737823486328),\n",
       " ('有中國特色的社會主義', 0.6971532106399536),\n",
       " ('立國之本', 0.6871867179870605),\n",
       " ('亞洲價值', 0.6862038373947144),\n",
       " ('道德規範', 0.6858823299407959),\n",
       " ('個人修養', 0.6857884526252747)]"
      ]
     },
     "execution_count": 39,
     "metadata": {},
     "output_type": "execute_result"
    }
   ],
   "source": [
    "# \"道德\" + \"中國\"\n",
    "result[0:10]"
   ]
  },
  {
   "cell_type": "code",
   "execution_count": 34,
   "metadata": {
    "collapsed": false
   },
   "outputs": [
    {
     "data": {
      "text/plain": [
       "[('河', 0.7483956813812256),\n",
       " ('德國', 0.6959798336029053),\n",
       " ('美因河', 0.6651220321655273),\n",
       " ('貝爾吉施', 0.661838710308075),\n",
       " ('蒂爾西特', 0.6605854630470276),\n",
       " ('瓦倫湖', 0.6603633761405945),\n",
       " ('辛德爾芬根', 0.6583177447319031),\n",
       " ('維斯杜拉河', 0.6540092825889587),\n",
       " ('克瓦爾肯羣島', 0.6532602310180664),\n",
       " ('提契諾河', 0.652695894241333)]"
      ]
     },
     "execution_count": 34,
     "metadata": {},
     "output_type": "execute_result"
    }
   ],
   "source": [
    "# \"德國\" + \"河\"\n",
    "result[0:10]"
   ]
  },
  {
   "cell_type": "code",
   "execution_count": null,
   "metadata": {
    "collapsed": true
   },
   "outputs": [],
   "source": []
  }
 ],
 "metadata": {
  "kernelspec": {
   "display_name": "Python 3",
   "language": "python",
   "name": "python3"
  },
  "language_info": {
   "codemirror_mode": {
    "name": "ipython",
    "version": 3
   },
   "file_extension": ".py",
   "mimetype": "text/x-python",
   "name": "python",
   "nbconvert_exporter": "python",
   "pygments_lexer": "ipython3",
   "version": "3.5.2"
  }
 },
 "nbformat": 4,
 "nbformat_minor": 2
}

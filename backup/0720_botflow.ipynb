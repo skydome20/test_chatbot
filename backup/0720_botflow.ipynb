{
 "cells": [
  {
   "cell_type": "code",
   "execution_count": 3,
   "metadata": {
    "collapsed": false
   },
   "outputs": [
    {
     "name": "stderr",
     "output_type": "stream",
     "text": [
      "Building prefix dict from /home/skydome20/Desktop/dbot/dbot.py3/jieba_dict/dict.txt.big ...\n",
      "2017-09-06 22:27:19,250 : DEBUG : Building prefix dict from /home/skydome20/Desktop/dbot/dbot.py3/jieba_dict/dict.txt.big ...\n",
      "Loading model from cache /tmp/jieba.u300776cf1c5f564361e07846b411a882.cache\n",
      "2017-09-06 22:27:19,281 : DEBUG : Loading model from cache /tmp/jieba.u300776cf1c5f564361e07846b411a882.cache\n",
      "Loading model cost 5.018 seconds.\n",
      "2017-09-06 22:27:24,284 : DEBUG : Loading model cost 5.018 seconds.\n",
      "Prefix dict has been built succesfully.\n",
      "2017-09-06 22:27:24,296 : DEBUG : Prefix dict has been built succesfully.\n",
      "2017-09-06 22:27:45,947 : INFO : 'pattern' package not found; tag filters are not available for English\n"
     ]
    }
   ],
   "source": [
    "import question_module\n",
    "import Parse_News\n",
    "import Process_News\n",
    "import Analysis_News"
   ]
  },
  {
   "cell_type": "code",
   "execution_count": 4,
   "metadata": {
    "collapsed": false
   },
   "outputs": [
    {
     "name": "stdout",
     "output_type": "stream",
     "text": [
      "['金正恩', '川普']\n"
     ]
    }
   ],
   "source": [
    "# cut question\n",
    "question = \"金正恩和川普\"\n",
    "q_keywords = question_module.handler(question)\n",
    "print(q_keywords)"
   ]
  },
  {
   "cell_type": "code",
   "execution_count": 5,
   "metadata": {
    "collapsed": false
   },
   "outputs": [
    {
     "name": "stdout",
     "output_type": "stream",
     "text": [
      "https://www.google.com.tw/search?tbm=nws&q=allintext:金正恩+川普+site:udn.com/news\n",
      "...Parsing...\n",
      "...Parsing...\n",
      "https://www.google.com.tw/search?tbm=nws&q=allintext:金正恩+川普+site:www.businessweekly.com.tw\n",
      "...Parsing...\n",
      "...Parsing...\n",
      "https://www.google.com.tw/search?tbm=nws&q=allintext:金正恩+川普+site:www.chinatimes.com\n",
      "...Parsing...\n",
      "...Parsing...\n",
      "https://www.google.com.tw/search?tbm=nws&q=allintext:金正恩+川普+site:www.appledaily.com.tw\n",
      "...Parsing...\n",
      "...Parsing...\n",
      "https://www.google.com.tw/search?tbm=nws&q=allintext:金正恩+川普+site:news.ltn.com.tw\n",
      "...Parsing...\n",
      "...Parsing...\n",
      "https://www.google.com.tw/search?tbm=nws&q=allintext:金正恩+川普+site:www.civilmedia.tw\n",
      "...Parsing...\n",
      "...Parsing...\n",
      "https://www.google.com.tw/search?tbm=nws&q=allintext:金正恩+川普+site:www.storm.mg\n",
      "...Parsing...\n",
      "...Parsing...\n",
      "https://www.google.com.tw/search?tbm=nws&q=allintext:金正恩+川普+site:www.cna.com.tw\n",
      "...Parsing...\n",
      "...Parsing...\n",
      "https://www.google.com.tw/search?tbm=nws&q=allintext:金正恩+川普+site:www.thenewslens.com\n",
      "...Parsing...\n",
      "...Parsing...\n",
      "/home/skydome20/Desktop/dbot/dbot.py3/news_folder/all/金正恩_川普.txt\n",
      "/home/skydome20/Desktop/dbot/dbot.py3/news_folder/title/金正恩_川普_title.txt\n",
      "/home/skydome20/Desktop/dbot/dbot.py3/news_folder/href/金正恩_川普_href.txt\n"
     ]
    },
    {
     "ename": "IndexError",
     "evalue": "tuple index out of range",
     "output_type": "error",
     "traceback": [
      "\u001b[0;31m---------------------------------------------------------------------------\u001b[0m",
      "\u001b[0;31mIndexError\u001b[0m                                Traceback (most recent call last)",
      "\u001b[0;32m<ipython-input-5-6601df2e95cf>\u001b[0m in \u001b[0;36m<module>\u001b[0;34m()\u001b[0m\n\u001b[1;32m      4\u001b[0m \u001b[0mprint\u001b[0m\u001b[0;34m(\u001b[0m\u001b[0mnews_path\u001b[0m\u001b[0;34m[\u001b[0m\u001b[0;36m1\u001b[0m\u001b[0;34m]\u001b[0m\u001b[0;34m)\u001b[0m\u001b[0;34m\u001b[0m\u001b[0m\n\u001b[1;32m      5\u001b[0m \u001b[0mprint\u001b[0m\u001b[0;34m(\u001b[0m\u001b[0mnews_path\u001b[0m\u001b[0;34m[\u001b[0m\u001b[0;36m2\u001b[0m\u001b[0;34m]\u001b[0m\u001b[0;34m)\u001b[0m\u001b[0;34m\u001b[0m\u001b[0m\n\u001b[0;32m----> 6\u001b[0;31m \u001b[0mprint\u001b[0m\u001b[0;34m(\u001b[0m\u001b[0mnews_path\u001b[0m\u001b[0;34m[\u001b[0m\u001b[0;36m3\u001b[0m\u001b[0;34m]\u001b[0m\u001b[0;34m)\u001b[0m\u001b[0;34m\u001b[0m\u001b[0m\n\u001b[0m",
      "\u001b[0;31mIndexError\u001b[0m: tuple index out of range"
     ]
    }
   ],
   "source": [
    "# parse news\n",
    "news_path = Parse_News.parse(q_keywords, \"+\", 15)\n",
    "print(news_path[0])\n",
    "print(news_path[1])\n",
    "print(news_path[2])"
   ]
  },
  {
   "cell_type": "code",
   "execution_count": 4,
   "metadata": {
    "collapsed": false
   },
   "outputs": [
    {
     "name": "stdout",
     "output_type": "stream",
     "text": [
      "/home/skydome20/Desktop/dbot/dbot.py3/news_folder/cut/cut.txt\n"
     ]
    }
   ],
   "source": [
    "# cut parsed news\n",
    "cut_path = Process_News.cut(news_path[0])\n",
    "print(cut_path)"
   ]
  },
  {
   "cell_type": "code",
   "execution_count": null,
   "metadata": {
    "collapsed": true
   },
   "outputs": [],
   "source": [
    "ass_keywords = Analysis_News.associated_keywords(q_keywords, filter_news_path)\n",
    "print(ass_keywords)"
   ]
  },
  {
   "cell_type": "code",
   "execution_count": null,
   "metadata": {
    "collapsed": true
   },
   "outputs": [],
   "source": [
    "### 7. deduction on associated_keywords  ###\n",
    "warnings.filterwarnings(\"ignore\", category=DeprecationWarning) \n",
    "\n",
    "deduction_words = []\n",
    "\n",
    "# check keywords in wiki_word2vec\n",
    "for word in ass_keywords:\n",
    "    try:\n",
    "        wiki_model[word]\n",
    "    except Exception as e:\n",
    "        ass_keywords.remove(word)\n",
    "\n",
    "print(ass_keywords)\n",
    "\n",
    "# use combination of ass_keywords to apply deduction on keywords\n",
    "for tuple_words in combinations(ass_keywords, 2):\n",
    "    \n",
    "    # word2vec addition result to deduction \n",
    "    combin_vec = wiki_model[tuple_words[0]] + wiki_model[tuple_words[1]]\n",
    "\n",
    "    # cosine similarity for most related words for word2vec addition result\n",
    "    lst = list()\n",
    "    for voc in wiki_model.vocab:\n",
    "        voc_vec = wiki_model[voc]\n",
    "        cos_sim = cosine_similarity(combin_vec, voc_vec)\n",
    "        lst.append( (voc, float(cos_sim)) )\n",
    "        \n",
    "    # top k most words \n",
    "    result = sorted(lst, key=lambda x: x[1], reverse=True)\n",
    "    \n",
    "    # store top k most words\n",
    "    deduction_words.extend([tup_result[0] for tup_result in result[2:10]])\n",
    "    \n",
    "#print (deduction_words)"
   ]
  }
 ],
 "metadata": {
  "kernelspec": {
   "display_name": "Python 3",
   "language": "python",
   "name": "python3"
  },
  "language_info": {
   "codemirror_mode": {
    "name": "ipython",
    "version": 3
   },
   "file_extension": ".py",
   "mimetype": "text/x-python",
   "name": "python",
   "nbconvert_exporter": "python",
   "pygments_lexer": "ipython3",
   "version": "3.5.2"
  }
 },
 "nbformat": 4,
 "nbformat_minor": 2
}
